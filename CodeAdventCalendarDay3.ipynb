{
  "nbformat": 4,
  "nbformat_minor": 0,
  "metadata": {
    "colab": {
      "name": "CodeAdventCalendarDay3.ipynb",
      "provenance": [],
      "include_colab_link": true
    },
    "kernelspec": {
      "name": "python3",
      "display_name": "Python 3"
    }
  },
  "cells": [
    {
      "cell_type": "markdown",
      "metadata": {
        "id": "view-in-github",
        "colab_type": "text"
      },
      "source": [
        "<a href=\"https://colab.research.google.com/github/toyohiro0326/AdventOfCode/blob/master/CodeAdventCalendarDay3.ipynb\" target=\"_parent\"><img src=\"https://colab.research.google.com/assets/colab-badge.svg\" alt=\"Open In Colab\"/></a>"
      ]
    },
    {
      "cell_type": "code",
      "metadata": {
        "id": "tMWEIKWIu2w1",
        "colab_type": "code",
        "colab": {}
      },
      "source": [
        "wire10 = ['R1009', 'D117', 'L888', 'D799', 'L611', 'U766', 'L832', 'U859', 'L892', 'D79', 'R645', 'U191', 'L681', 'D787', 'R447', 'D429', 'L988', 'U536', 'L486', 'D832', 'R221', 'D619', 'R268', 'D545', 'L706', 'U234', 'L528', 'D453', 'R493', 'D24', 'L688', 'U658', 'L74', 'D281', 'R910', 'D849', 'L5', 'U16', 'R935', 'D399', 'L417', 'U609', 'R22', 'D782', 'L432', 'D83', 'L357', 'D982', 'L902', 'U294', 'L338', 'U102', 'R342', 'D621', 'R106', 'U979', 'L238', 'U158', 'R930', 'D948', 'L700', 'D808', 'R445', 'U897', 'R980', 'U227', 'L466', 'D416', 'R244', 'U396', 'R576', 'U157', 'R548', 'U795', 'R709', 'U550', 'R137', 'U212', 'L977', 'U786', 'L423', 'D792', 'R391', 'D974', 'R390', 'U771', 'R270', 'D409', 'L917', 'D9', 'R412', 'D699', 'L170', 'D276', 'L912', 'U710', 'R814', 'U656', 'R4', 'D800', 'R596', 'U970', 'L194', 'U315', 'L845', 'D490', 'L303', 'U514', 'L675', 'D737', 'L880', 'D86', 'L253', 'D525', 'R861', 'D5', 'R424', 'D113', 'L764', 'D900', 'R485', 'D421', 'R125', 'U684', 'R53', 'U96', 'L871', 'U260', 'R456', 'U378', 'L448', 'D450', 'L903', 'D482', 'R750', 'U961', 'R264', 'D501', 'R605', 'D367', 'R550', 'U642', 'R228', 'U164', 'L343', 'U868', 'R595', 'D318', 'R452', 'U845', 'L571', 'D281', 'R49', 'D889', 'L481', 'U963', 'R182', 'U358', 'R454', 'U267', 'L790', 'D252', 'R455', 'D188', 'L73', 'U256', 'L835', 'D816', 'R503', 'U895', 'L259', 'U418', 'R642', 'U818', 'L187', 'U355', 'R772', 'U466', 'R21', 'U91', 'R707', 'D349', 'L200', 'U305', 'R931', 'D982', 'L334', 'D416', 'L247', 'D935', 'L326', 'U449', 'L398', 'D914', 'R602', 'U10', 'R762', 'D944', 'L639', 'D141', 'L457', 'U579', 'L198', 'U527', 'R750', 'U167', 'R816', 'D753', 'R850', 'D281', 'L712', 'D583', 'L172', 'D254', 'L544', 'D456', 'R966', 'U839', 'R673', 'D479', 'R730', 'D912', 'R992', 'D969', 'R766', 'U205', 'R477', 'D719', 'R172', 'D735', 'R998', 'D687', 'R698', 'D407', 'R172', 'U945', 'R199', 'U348', 'L256', 'D876', 'R580', 'U770', 'L483', 'D437', 'R353', 'D214', 'R619', 'U541', 'R234', 'D962', 'R842', 'U639', 'R520', 'D354', 'L279', 'D15', 'R42', 'U138', 'L321', 'D376', 'L628', 'D893', 'L670', 'D574', 'L339', 'U298', 'L321', 'D120', 'L370', 'U408', 'L333', 'D353', 'L263', 'D79', 'R535', 'D487', 'R113', 'D638', 'R623', 'D59', 'L508', 'D866', 'R315', 'U166', 'L534', 'U927', 'L401', 'D626', 'L19', 'D994', 'L778', 'D317', 'L936', 'U207', 'L768', 'U948', 'R452', 'U165', 'R864', 'D283', 'L874']"
      ],
      "execution_count": 0,
      "outputs": []
    },
    {
      "cell_type": "code",
      "metadata": {
        "id": "vBWm0LDhyfOv",
        "colab_type": "code",
        "colab": {}
      },
      "source": [
        "wire20 = ['L995', 'D93', 'L293', 'U447', 'L793', 'D605', 'R497', 'D155', 'L542', 'D570', 'R113', 'D779', 'L510', 'U367', 'L71', 'D980', 'R237', 'U290', 'L983', 'U49', 'R745', 'U182', 'L922', 'D174', 'L189', 'D629', 'R315', 'D203', 'R533', 'U72', 'L981', 'D848', 'L616', 'U654', 'R445', 'D864', 'R526', 'D668', 'L678', 'U378', 'L740', 'D840', 'L202', 'D429', 'R136', 'D998', 'L116', 'D554', 'L893', 'U759', 'R617', 'U942', 'R999', 'U582', 'L220', 'U447', 'R895', 'D13', 'R217', 'U743', 'L865', 'U950', 'R91', 'D381', 'R662', 'D518', 'L798', 'D637', 'L213', 'D93', 'L231', 'D185', 'R704', 'U581', 'L268', 'U773', 'R405', 'U862', 'R796', 'U73', 'L891', 'U553', 'L952', 'U450', 'R778', 'D868', 'R329', 'D669', 'L182', 'U378', 'L933', 'D83', 'R574', 'U807', 'R785', 'D278', 'R139', 'D362', 'R8', 'U546', 'R651', 'U241', 'L462', 'D309', 'L261', 'D307', 'L85', 'U701', 'L913', 'U271', 'R814', 'U723', 'L777', 'D256', 'R417', 'U814', 'L461', 'U652', 'R198', 'D747', 'R914', 'U520', 'R806', 'U956', 'L771', 'D229', 'R984', 'U685', 'R663', 'D812', 'R650', 'U214', 'R839', 'U574', 'L10', 'U66', 'R644', 'D371', 'L917', 'D819', 'L73', 'D236', 'R277', 'U611', 'R390', 'U723', 'L129', 'D496', 'L552', 'D451', 'R584', 'U105', 'L805', 'U165', 'R179', 'D372', 'L405', 'D702', 'R14', 'U332', 'L893', 'D419', 'R342', 'D146', 'R907', 'D672', 'L316', 'U257', 'L903', 'U919', 'L942', 'U771', 'R879', 'U624', 'L280', 'U150', 'L320', 'U220', 'R590', 'D242', 'R744', 'U291', 'R562', 'U418', 'L898', 'U66', 'L564', 'U495', 'R837', 'D555', 'L739', 'D780', 'R409', 'D122', 'L426', 'D857', 'R937', 'D600', 'R428', 'D592', 'R727', 'U917', 'R256', 'D680', 'L422', 'U630', 'L14', 'U240', 'R617', 'D664', 'L961', 'D554', 'L302', 'U925', 'L376', 'D187', 'L700', 'D31', 'L762', 'U397', 'L554', 'D217', 'R679', 'D683', 'R680', 'D572', 'R54', 'D164', 'L940', 'D523', 'R140', 'U52', 'L506', 'D638', 'R331', 'D415', 'R389', 'D884', 'R410', 'D62', 'R691', 'U665', 'R889', 'U864', 'L663', 'D690', 'R487', 'U811', 'L190', 'U780', 'L758', 'U267', 'R155', 'D344', 'L133', 'D137', 'R93', 'D229', 'L729', 'U878', 'L889', 'D603', 'R288', 'U890', 'R251', 'U531', 'L249', 'D995', 'R863', 'D257', 'R655', 'D311', 'R874', 'U356', 'L833', 'U151', 'L741', 'U246', 'R694', 'D899', 'L48', 'U915', 'L900', 'U757', 'L861', 'U402', 'R971', 'U537', 'R460', 'D844', 'R54', 'U956', 'L151', 'U74', 'R892', 'U248', 'R677', 'D881', 'R99', 'D931', 'R427']"
      ],
      "execution_count": 0,
      "outputs": []
    },
    {
      "cell_type": "code",
      "metadata": {
        "id": "8atu79wpyn8U",
        "colab_type": "code",
        "colab": {}
      },
      "source": [
        "import pandas as pd"
      ],
      "execution_count": 0,
      "outputs": []
    },
    {
      "cell_type": "code",
      "metadata": {
        "id": "gEUCM08FzV4d",
        "colab_type": "code",
        "colab": {}
      },
      "source": [
        "wire = pd.DataFrame([wire10, wire20]).T"
      ],
      "execution_count": 0,
      "outputs": []
    },
    {
      "cell_type": "code",
      "metadata": {
        "id": "FL7nw2aBzgIL",
        "colab_type": "code",
        "colab": {
          "base_uri": "https://localhost:8080/",
          "height": 419
        },
        "outputId": "de5291f9-33dd-4450-bc76-5289495c8004"
      },
      "source": [
        "wire"
      ],
      "execution_count": 8,
      "outputs": [
        {
          "output_type": "execute_result",
          "data": {
            "text/html": [
              "<div>\n",
              "<style scoped>\n",
              "    .dataframe tbody tr th:only-of-type {\n",
              "        vertical-align: middle;\n",
              "    }\n",
              "\n",
              "    .dataframe tbody tr th {\n",
              "        vertical-align: top;\n",
              "    }\n",
              "\n",
              "    .dataframe thead th {\n",
              "        text-align: right;\n",
              "    }\n",
              "</style>\n",
              "<table border=\"1\" class=\"dataframe\">\n",
              "  <thead>\n",
              "    <tr style=\"text-align: right;\">\n",
              "      <th></th>\n",
              "      <th>0</th>\n",
              "      <th>1</th>\n",
              "    </tr>\n",
              "  </thead>\n",
              "  <tbody>\n",
              "    <tr>\n",
              "      <th>0</th>\n",
              "      <td>R1009</td>\n",
              "      <td>L995</td>\n",
              "    </tr>\n",
              "    <tr>\n",
              "      <th>1</th>\n",
              "      <td>D117</td>\n",
              "      <td>D93</td>\n",
              "    </tr>\n",
              "    <tr>\n",
              "      <th>2</th>\n",
              "      <td>L888</td>\n",
              "      <td>L293</td>\n",
              "    </tr>\n",
              "    <tr>\n",
              "      <th>3</th>\n",
              "      <td>D799</td>\n",
              "      <td>U447</td>\n",
              "    </tr>\n",
              "    <tr>\n",
              "      <th>4</th>\n",
              "      <td>L611</td>\n",
              "      <td>L793</td>\n",
              "    </tr>\n",
              "    <tr>\n",
              "      <th>...</th>\n",
              "      <td>...</td>\n",
              "      <td>...</td>\n",
              "    </tr>\n",
              "    <tr>\n",
              "      <th>296</th>\n",
              "      <td>R452</td>\n",
              "      <td>R677</td>\n",
              "    </tr>\n",
              "    <tr>\n",
              "      <th>297</th>\n",
              "      <td>U165</td>\n",
              "      <td>D881</td>\n",
              "    </tr>\n",
              "    <tr>\n",
              "      <th>298</th>\n",
              "      <td>R864</td>\n",
              "      <td>R99</td>\n",
              "    </tr>\n",
              "    <tr>\n",
              "      <th>299</th>\n",
              "      <td>D283</td>\n",
              "      <td>D931</td>\n",
              "    </tr>\n",
              "    <tr>\n",
              "      <th>300</th>\n",
              "      <td>L874</td>\n",
              "      <td>R427</td>\n",
              "    </tr>\n",
              "  </tbody>\n",
              "</table>\n",
              "<p>301 rows × 2 columns</p>\n",
              "</div>"
            ],
            "text/plain": [
              "         0     1\n",
              "0    R1009  L995\n",
              "1     D117   D93\n",
              "2     L888  L293\n",
              "3     D799  U447\n",
              "4     L611  L793\n",
              "..     ...   ...\n",
              "296   R452  R677\n",
              "297   U165  D881\n",
              "298   R864   R99\n",
              "299   D283  D931\n",
              "300   L874  R427\n",
              "\n",
              "[301 rows x 2 columns]"
            ]
          },
          "metadata": {
            "tags": []
          },
          "execution_count": 8
        }
      ]
    },
    {
      "cell_type": "code",
      "metadata": {
        "id": "AS7LOyiT0ltp",
        "colab_type": "code",
        "colab": {}
      },
      "source": [
        "import numpy as np"
      ],
      "execution_count": 0,
      "outputs": []
    },
    {
      "cell_type": "code",
      "metadata": {
        "id": "096dp1oRzpsl",
        "colab_type": "code",
        "colab": {
          "base_uri": "https://localhost:8080/",
          "height": 51
        },
        "outputId": "6c66d3b7-fdac-4565-9d0f-1f2d38a28c23"
      },
      "source": [
        "minstep0 = int(wire.iloc[0,0][1:])\n",
        "minstep1 = int(wire.iloc[0,1][1:])\n",
        "for i in range(wire.shape[0]):\n",
        "  minstep0 = min(int(wire.iloc[i,0][1:]),minstep0)\n",
        "  minstep1 = min(int(wire.iloc[i,1][1:]),minstep1)\n",
        "print(minstep0)\n",
        "print(minstep1)"
      ],
      "execution_count": 30,
      "outputs": [
        {
          "output_type": "stream",
          "text": [
            "4\n",
            "8\n"
          ],
          "name": "stdout"
        }
      ]
    },
    {
      "cell_type": "code",
      "metadata": {
        "id": "F120l5B6JBKF",
        "colab_type": "code",
        "colab": {}
      },
      "source": [
        "step1H = []\n",
        "step1V = []\n",
        "s = 0\n",
        "for i in range(wire.shape[0]):\n",
        "  if (wire.iloc[i,0][0] == 'U') or (wire.iloc[i,0][0] == 'D'):\n",
        "    for j in range(int(wire.iloc[i,0][1:])-1):\n",
        "      s+=1\n",
        "      step1V.append(s)\n",
        "    s+=1\n",
        "  elif (wire.iloc[i,0][0] == 'R') or (wire.iloc[i,0][0] == 'L'):\n",
        "    for j in range(int(wire.iloc[i,0][1:])-1):\n",
        "      s+=1\n",
        "      step1H.append(s)\n",
        "    s+=1"
      ],
      "execution_count": 0,
      "outputs": []
    },
    {
      "cell_type": "code",
      "metadata": {
        "id": "6mvIKkoGUhKO",
        "colab_type": "code",
        "colab": {}
      },
      "source": [
        "step2H = []\n",
        "step2V = []\n",
        "s = 0\n",
        "for i in range(wire.shape[0]):\n",
        "  if (wire.iloc[i,1][0] == 'U') or (wire.iloc[i,1][0] == 'D'):\n",
        "    for j in range(int(wire.iloc[i,1][1:])-1):\n",
        "      s+=1\n",
        "      step2V.append(s)\n",
        "    s+=1\n",
        "  elif (wire.iloc[i,1][0] == 'R') or (wire.iloc[i,1][0] == 'L'):\n",
        "    for j in range(int(wire.iloc[i,1][1:])-1):\n",
        "      s+=1\n",
        "      step2H.append(s)\n",
        "    s+=1"
      ],
      "execution_count": 0,
      "outputs": []
    },
    {
      "cell_type": "code",
      "metadata": {
        "id": "I1IrzAj3Jcl8",
        "colab_type": "code",
        "colab": {
          "base_uri": "https://localhost:8080/",
          "height": 85
        },
        "outputId": "9cf770ae-df3b-4288-9229-6a072dc03c0e"
      },
      "source": [
        "print(len(step1H))\n",
        "print(len(step1V))\n",
        "print(len(step2H))\n",
        "print(len(step2V))"
      ],
      "execution_count": 146,
      "outputs": [
        {
          "output_type": "stream",
          "text": [
            "77583\n",
            "76646\n",
            "81518\n",
            "75751\n"
          ],
          "name": "stdout"
        }
      ]
    },
    {
      "cell_type": "code",
      "metadata": {
        "id": "XrXUfjEJ3gPV",
        "colab_type": "code",
        "colab": {
          "base_uri": "https://localhost:8080/",
          "height": 136
        },
        "outputId": "5e3ec9af-3ad5-4b72-b3f5-963f1b51304e"
      },
      "source": [
        "wire1IntersectH = pd.DataFrame(index=step1H, columns=['coordinate'])\n",
        "wire1IntersectH.index.name = 'step'\n",
        "wire1IntersectV = pd.DataFrame(index=step1V, columns=['coordinate'])\n",
        "wire1IntersectV.index.name = 'step'\n",
        "a = 0\n",
        "x = 0\n",
        "y = 0\n",
        "s = 0\n",
        "for i in range(wire.shape[0]):\n",
        "  if i % 100 == 0:\n",
        "    print(i)\n",
        "  if wire.iloc[i,a][0] == 'U':\n",
        "    for j in range(int(wire.iloc[i,a][1:])-1):\n",
        "      y+=1\n",
        "      s+=1\n",
        "      wire1IntersectV.at[s,'coordinate'] = [x,y]\n",
        "    y+=1\n",
        "    s+=1\n",
        "  elif wire.iloc[i,a][0] == 'D':\n",
        "    for j in range(int(wire.iloc[i,a][1:])-1):\n",
        "      y-=1\n",
        "      s+=1\n",
        "      wire1IntersectV.at[s,'coordinate'] = [x,y]\n",
        "    y-=1\n",
        "    s+=1\n",
        "  elif wire.iloc[i,a][0] == 'R':\n",
        "    for j in range(int(wire.iloc[i,a][1:])-1):\n",
        "      x+=1\n",
        "      s+=1\n",
        "      wire1IntersectH.at[s,'coordinate'] = [x,y]\n",
        "    x+=1\n",
        "    s+=1\n",
        "  elif wire.iloc[i,a][0] == 'L':\n",
        "    for j in range(int(wire.iloc[i,a][1:])-1):\n",
        "      x-=1\n",
        "      s+=1\n",
        "      wire1IntersectH.at[s,'coordinate'] = [x,y]\n",
        "    x-=1\n",
        "    s+=1"
      ],
      "execution_count": 147,
      "outputs": [
        {
          "output_type": "stream",
          "text": [
            "0\n",
            "50\n",
            "100\n",
            "150\n",
            "200\n",
            "250\n",
            "300\n"
          ],
          "name": "stdout"
        }
      ]
    },
    {
      "cell_type": "code",
      "metadata": {
        "id": "o5ryk_BB8ibF",
        "colab_type": "code",
        "colab": {
          "base_uri": "https://localhost:8080/",
          "height": 85
        },
        "outputId": "03f05787-1684-4e06-f727-afb7cb2a6391"
      },
      "source": [
        "wire2IntersectH = pd.DataFrame(index=step2H, columns=['coordinate'])\n",
        "wire2IntersectH.index.name = 'step'\n",
        "wire2IntersectV = pd.DataFrame(index=step2V, columns=['coordinate'])\n",
        "wire2IntersectV.index.name = 'step'\n",
        "a = 1\n",
        "x = 0\n",
        "y = 0\n",
        "s = 0\n",
        "for i in range(wire.shape[0]):\n",
        "  if i % 100 == 0:\n",
        "    print(i)\n",
        "  if wire.iloc[i,a][0] == 'U':\n",
        "    for j in range(int(wire.iloc[i,a][1:])-1):\n",
        "      y+=1\n",
        "      s+=1\n",
        "      wire2IntersectV.at[s,'coordinate'] = [x,y]\n",
        "    y+=1\n",
        "    s+=1\n",
        "  elif wire.iloc[i,a][0] == 'D':\n",
        "    for j in range(int(wire.iloc[i,a][1:])-1):\n",
        "      y-=1\n",
        "      s+=1\n",
        "      wire2IntersectV.at[s,'coordinate'] = [x,y]\n",
        "    y-=1\n",
        "    s+=1\n",
        "  elif wire.iloc[i,a][0] == 'R':\n",
        "    for j in range(int(wire.iloc[i,a][1:])-1):\n",
        "      x+=1\n",
        "      s+=1\n",
        "      wire2IntersectH.at[s,'coordinate'] = [x,y]\n",
        "    x+=1\n",
        "    s+=1\n",
        "  elif wire.iloc[i,a][0] == 'L':\n",
        "    for j in range(int(wire.iloc[i,a][1:])-1):\n",
        "      x-=1\n",
        "      s+=1\n",
        "      wire2IntersectH.at[s,'coordinate'] = [x,y]\n",
        "    x-=1\n",
        "    s+=1"
      ],
      "execution_count": 149,
      "outputs": [
        {
          "output_type": "stream",
          "text": [
            "0\n",
            "100\n",
            "200\n",
            "300\n"
          ],
          "name": "stdout"
        }
      ]
    },
    {
      "cell_type": "code",
      "metadata": {
        "colab_type": "code",
        "outputId": "444c0abd-73eb-4ff2-cd0c-8b2a5ca5c530",
        "id": "AMQ7RpkpHP_i",
        "colab": {
          "base_uri": "https://localhost:8080/",
          "height": 85
        }
      },
      "source": [
        "print(wire1IntersectH.shape)\n",
        "print(wire1IntersectV.shape)\n",
        "print(wire2IntersectH.shape)\n",
        "print(wire2IntersectV.shape)"
      ],
      "execution_count": 150,
      "outputs": [
        {
          "output_type": "stream",
          "text": [
            "(77583, 1)\n",
            "(76646, 1)\n",
            "(81518, 1)\n",
            "(75751, 1)\n"
          ],
          "name": "stdout"
        }
      ]
    },
    {
      "cell_type": "code",
      "metadata": {
        "id": "sZeNKg__UYiE",
        "colab_type": "code",
        "colab": {}
      },
      "source": [
        "inter1v2h = [list(x) for x in set(tuple(x) for x in wire1IntersectV.coordinate.tolist()).intersection(set(tuple(x) for x in wire2IntersectH.coordinate.tolist()))]\n",
        "inter1h2v = [list(x) for x in set(tuple(x) for x in wire1IntersectH.coordinate.tolist()).intersection(set(tuple(x) for x in wire2IntersectV.coordinate.tolist()))]"
      ],
      "execution_count": 0,
      "outputs": []
    },
    {
      "cell_type": "code",
      "metadata": {
        "id": "Xeu70UHZXzW1",
        "colab_type": "code",
        "colab": {
          "base_uri": "https://localhost:8080/",
          "height": 51
        },
        "outputId": "9532515f-15d1-4d3b-efc8-bdf79eb8cbf6"
      },
      "source": [
        "print(len(inter1v2h))\n",
        "print(len(inter1h2v))"
      ],
      "execution_count": 181,
      "outputs": [
        {
          "output_type": "stream",
          "text": [
            "136\n",
            "136\n"
          ],
          "name": "stdout"
        }
      ]
    },
    {
      "cell_type": "code",
      "metadata": {
        "id": "UjYvLp0mbK05",
        "colab_type": "code",
        "colab": {
          "base_uri": "https://localhost:8080/",
          "height": 187
        },
        "outputId": "90005672-fcb6-45e2-fa91-a5a291b49128"
      },
      "source": [
        "inter1v2h[:10]"
      ],
      "execution_count": 185,
      "outputs": [
        {
          "output_type": "execute_result",
          "data": {
            "text/plain": [
              "[[-1036, -2567],\n",
              " [-2868, -2853],\n",
              " [-1826, 508],\n",
              " [-2400, -1755],\n",
              " [-4291, -1512],\n",
              " [-3126, -2078],\n",
              " [-4427, -3629],\n",
              " [-3781, -1265],\n",
              " [-3236, -1847],\n",
              " [-2250, 816]]"
            ]
          },
          "metadata": {
            "tags": []
          },
          "execution_count": 185
        }
      ]
    },
    {
      "cell_type": "code",
      "metadata": {
        "id": "Dd0VM10vfbcn",
        "colab_type": "code",
        "colab": {}
      },
      "source": [
        "step1v2h = pd.DataFrame(index=range(len(inter1v2h)),columns=['step1','step2'])\n",
        "j = 0\n",
        "for i in inter1v2h:\n",
        "  step1v2h.loc[j]['step1']=wire1IntersectV.index[wire1IntersectV.coordinate.tolist().index(i)]\n",
        "  step1v2h.loc[j]['step2']=wire2IntersectH.index[wire2IntersectH.coordinate.tolist().index(i)]\n",
        "  j+=1"
      ],
      "execution_count": 0,
      "outputs": []
    },
    {
      "cell_type": "code",
      "metadata": {
        "id": "DgD3WMAghCsD",
        "colab_type": "code",
        "colab": {}
      },
      "source": [
        "step1h2v = pd.DataFrame(index=range(len(inter1h2v)),columns=['step1','step2'])\n",
        "j = 0\n",
        "for i in inter1h2v:\n",
        "  step1h2v.loc[j]['step1']=wire1IntersectH.index[wire1IntersectH.coordinate.tolist().index(i)]\n",
        "  step1h2v.loc[j]['step2']=wire2IntersectV.index[wire2IntersectV.coordinate.tolist().index(i)]\n",
        "  j+=1"
      ],
      "execution_count": 0,
      "outputs": []
    },
    {
      "cell_type": "code",
      "metadata": {
        "id": "5zH5zrOLhSTd",
        "colab_type": "code",
        "colab": {}
      },
      "source": [
        "step1v2h['sumstep']=step1v2h['step1']+step1v2h['step2']\n",
        "step1h2v['sumstep']=step1h2v['step1']+step1h2v['step2']"
      ],
      "execution_count": 0,
      "outputs": []
    },
    {
      "cell_type": "code",
      "metadata": {
        "id": "TOUTX8tphfxZ",
        "colab_type": "code",
        "colab": {
          "base_uri": "https://localhost:8080/",
          "height": 34
        },
        "outputId": "7e441ef3-532d-4fc3-c099-2d61fa3a5852"
      },
      "source": [
        "min(min(step1v2h.sumstep),min(step1h2v.sumstep))"
      ],
      "execution_count": 251,
      "outputs": [
        {
          "output_type": "execute_result",
          "data": {
            "text/plain": [
              "7388"
            ]
          },
          "metadata": {
            "tags": []
          },
          "execution_count": 251
        }
      ]
    }
  ]
}